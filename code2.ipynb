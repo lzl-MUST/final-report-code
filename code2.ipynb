{
 "cells": [
  {
   "cell_type": "code",
   "execution_count": 21,
   "id": "580abacc-cc65-4d59-a313-56ac035cd734",
   "metadata": {},
   "outputs": [],
   "source": [
    "import torch\n",
    "import torch.nn as nn\n",
    "from torch.optim import Adam\n",
    "from torch.utils.data import Dataset, DataLoader\n",
    "import torchvision.transforms as transforms  # 使用v1版本\n",
    "import torchvision.io as tv_io\n",
    "import glob\n",
    "from PIL import Image\n",
    "from sklearn.metrics import precision_score, recall_score, mean_squared_error, mean_absolute_error\n",
    "import numpy as np"
   ]
  },
  {
   "cell_type": "code",
   "execution_count": 2,
   "id": "412a5928-e80b-48f2-8bff-f84d5debbb74",
   "metadata": {},
   "outputs": [
    {
     "data": {
      "text/plain": [
       "True"
      ]
     },
     "execution_count": 2,
     "metadata": {},
     "output_type": "execute_result"
    }
   ],
   "source": [
    "device = torch.device(\"cuda\" if torch.cuda.is_available() else \"cpu\")\n",
    "torch.cuda.is_available()"
   ]
  },
  {
   "cell_type": "code",
   "execution_count": 3,
   "id": "61995a7b-8cc4-41c0-b80b-6e338b464557",
   "metadata": {},
   "outputs": [],
   "source": [
    "from torchvision.models import vgg16\n",
    "from torchvision.models import VGG16_Weights\n",
    "\n",
    "weights = VGG16_Weights.DEFAULT\n",
    "vgg_model = vgg16(weights=weights).to(device)"
   ]
  },
  {
   "cell_type": "code",
   "execution_count": 4,
   "id": "8a422ef0-5b15-42dd-8a07-1e3fd7a2d4e9",
   "metadata": {},
   "outputs": [],
   "source": [
    "# 冻结基础模型的参数\n",
    "for param in vgg_model.parameters():\n",
    "    param.requires_grad = False"
   ]
  },
  {
   "cell_type": "code",
   "execution_count": 5,
   "id": "39705a84-03e8-4317-bbe4-31ebf63d4b32",
   "metadata": {},
   "outputs": [],
   "source": [
    "N_CLASSES = 7\n",
    "\n",
    "my_model = nn.Sequential(\n",
    "    vgg_model.features,\n",
    "    vgg_model.avgpool,\n",
    "    nn.Flatten(),\n",
    "    vgg_model.classifier[0:3],\n",
    "    nn.Linear(4096, 500),\n",
    "    nn.ReLU(),\n",
    "    nn.Linear(500, N_CLASSES)\n",
    ").to(device)"
   ]
  },
  {
   "cell_type": "code",
   "execution_count": 6,
   "id": "783ce0e4-bafe-4138-bf81-f00c75e61e15",
   "metadata": {},
   "outputs": [],
   "source": [
    "# 定义损失函数和优化器\n",
    "loss_function = nn.CrossEntropyLoss()\n",
    "optimizer = Adam(my_model.parameters(), lr=0.001)"
   ]
  },
  {
   "cell_type": "code",
   "execution_count": 7,
   "id": "a003a8fe-4d80-4228-a519-20727ce3d7c9",
   "metadata": {},
   "outputs": [],
   "source": [
    "# 学习率调度器\n",
    "from torch.optim.lr_scheduler import ReduceLROnPlateau\n",
    "scheduler = ReduceLROnPlateau(optimizer, 'min', patience=5, factor=0.5)"
   ]
  },
  {
   "cell_type": "code",
   "execution_count": 8,
   "id": "74ee7238-c6a8-4721-86db-485a3455e9f6",
   "metadata": {},
   "outputs": [],
   "source": [
    "# 数据增强与预处理\n",
    "IMG_WIDTH, IMG_HEIGHT = (224, 224)\n",
    "random_trans = transforms.Compose([\n",
    "    transforms.RandomResizedCrop(size=(IMG_HEIGHT, IMG_WIDTH), scale=(0.8, 1.0)),\n",
    "    transforms.RandomHorizontalFlip(),\n",
    "    transforms.ColorJitter(brightness=0.2, contrast=0.2, saturation=0.2, hue=0.1),\n",
    "    transforms.ToTensor(),  # 转换为张量\n",
    "    transforms.Normalize(mean=[0.485, 0.456, 0.406], std=[0.229, 0.224, 0.225])\n",
    "])"
   ]
  },
  {
   "cell_type": "code",
   "execution_count": 9,
   "id": "ac9c5a0e-57da-4e80-b4a6-c95cf1f489c6",
   "metadata": {},
   "outputs": [],
   "source": [
    "DATA_LABELS = [\"angry\", \"disgust\", \"fear\", \"happy\", \"neutral\", \"sad\", \"surprise\"]\n",
    "\n",
    "class MyDataset(Dataset):\n",
    "    def __init__(self, data_dir):\n",
    "        self.imgs = []\n",
    "        self.labels = []\n",
    "        for l_idx, label in enumerate(DATA_LABELS):\n",
    "            data_paths = glob.glob(data_dir + label + '/*.jpg', recursive=True)\n",
    "            for path in data_paths:\n",
    "                # 使用 PIL.Image 打开图像并进行转换\n",
    "                img = Image.open(path).convert('RGB')\n",
    "                img = random_trans(img)  # 应用数据增强变换\n",
    "                self.imgs.append(img.to(device))\n",
    "                self.labels.append(torch.tensor(l_idx).to(device))\n",
    "\n",
    "    def __getitem__(self, idx):\n",
    "        img = self.imgs[idx]\n",
    "        label = self.labels[idx]\n",
    "        return img, label\n",
    "\n",
    "    def __len__(self):\n",
    "        return len(self.imgs)"
   ]
  },
  {
   "cell_type": "code",
   "execution_count": 10,
   "id": "81b76dba-4fe5-491b-b790-e318d0901923",
   "metadata": {},
   "outputs": [],
   "source": [
    "n = 32\n",
    "train_path = \"picture/train/\"\n",
    "train_data = MyDataset(train_path)\n",
    "train_loader = DataLoader(train_data, batch_size=n, shuffle=True)\n",
    "\n",
    "valid_path = \"picture/val/\"\n",
    "valid_data = MyDataset(valid_path)\n",
    "valid_loader = DataLoader(valid_data, batch_size=n, shuffle=False)"
   ]
  },
  {
   "cell_type": "code",
   "execution_count": 12,
   "id": "7571f859-9cda-4d61-baef-0845bbabe197",
   "metadata": {},
   "outputs": [],
   "source": [
    "class EarlyStopping:\n",
    "    def __init__(self, patience=7, verbose=False):\n",
    "        self.patience = patience\n",
    "        self.verbose = verbose\n",
    "        self.counter = 0\n",
    "        self.best_loss = None\n",
    "        self.early_stop = False\n",
    "\n",
    "    def __call__(self, val_loss):\n",
    "        if self.best_loss is None:\n",
    "            self.best_loss = val_loss\n",
    "        elif val_loss > self.best_loss:\n",
    "            self.counter += 1\n",
    "            if self.verbose:\n",
    "                print(f'EarlyStopping counter: {self.counter} out of {self.patience}')\n",
    "            if self.counter >= self.patience:\n",
    "                self.early_stop = True\n",
    "        else:\n",
    "            self.best_loss = val_loss\n",
    "            self.counter = 0"
   ]
  },
  {
   "cell_type": "code",
   "execution_count": 13,
   "id": "1c45ca47-11f3-456b-a519-ada53bb9cdef",
   "metadata": {},
   "outputs": [],
   "source": [
    "def train(model, data_loader, loss_function):\n",
    "    model.train()\n",
    "    running_loss = 0.0\n",
    "    for images, labels in data_loader:\n",
    "        images, labels = images.to(device), labels.to(device)\n",
    "        optimizer.zero_grad()\n",
    "        outputs = model(images)\n",
    "        loss = loss_function(outputs, labels)\n",
    "        loss.backward()\n",
    "        optimizer.step()\n",
    "        running_loss += loss.item()\n",
    "    \n",
    "    return running_loss / len(data_loader)"
   ]
  },
  {
   "cell_type": "code",
   "execution_count": 22,
   "id": "8cf6e081-0bb3-4a1d-9b0e-812907fe0b1b",
   "metadata": {},
   "outputs": [],
   "source": [
    "def validate(model, valid_loader):\n",
    "    model.eval()  # 设置模型为评估模式\n",
    "    all_labels = []\n",
    "    all_predictions = []\n",
    "    loss_total = 0.0\n",
    "\n",
    "    with torch.no_grad():  # 在验证时不计算梯度\n",
    "        for x, y in valid_loader:\n",
    "            x, y = x.to(device), y.to(device)\n",
    "            output = model(x)\n",
    "            loss = loss_function(output, y)\n",
    "            loss_total += loss.item()\n",
    "\n",
    "            # 获取预测结果\n",
    "            _, predicted = torch.max(output.data, 1)\n",
    "            all_labels.extend(y.cpu().numpy())\n",
    "            all_predictions.extend(predicted.cpu().numpy())\n",
    "\n",
    "    avg_loss = loss_total / len(valid_loader)\n",
    "\n",
    "    # 计算准确率\n",
    "    accuracy = (np.array(all_predictions) == np.array(all_labels)).mean()\n",
    "\n",
    "    # 计算精确率和召回率\n",
    "    precision = precision_score(all_labels, all_predictions, average='weighted', zero_division=0)\n",
    "    recall = recall_score(all_labels, all_predictions, average='weighted', zero_division=0)\n",
    "\n",
    "    # 计算均方误差 (MSE) 和平均绝对误差 (MAE)\n",
    "    mse = mean_squared_error(all_labels, all_predictions)\n",
    "    mae = mean_absolute_error(all_labels, all_predictions)\n",
    "\n",
    "    print(f'Validation Loss: {avg_loss:.4f}, Accuracy: {accuracy:.4f}, Precision: {precision:.4f}, Recall: {recall:.4f}, MSE: {mse:.4f}, MAE: {mae:.4f}')\n",
    "\n",
    "    return avg_loss\n"
   ]
  },
  {
   "cell_type": "code",
   "execution_count": 24,
   "id": "15efad36-f841-4942-8254-695655b4b37d",
   "metadata": {},
   "outputs": [
    {
     "name": "stdout",
     "output_type": "stream",
     "text": [
      "Epoch: 0\n",
      "Train Loss: 1.0629\n",
      "Validation Loss: 1.3371, Accuracy: 0.5052, Precision: 0.5037, Recall: 0.5052, MSE: 4.0912, MAE: 1.2449\n",
      "Epoch: 1\n",
      "Train Loss: 1.0507\n",
      "Validation Loss: 1.3455, Accuracy: 0.5043, Precision: 0.4954, Recall: 0.5043, MSE: 4.2672, MAE: 1.2764\n",
      "EarlyStopping counter: 1 out of 10\n",
      "Epoch: 2\n",
      "Train Loss: 1.0434\n",
      "Validation Loss: 1.3491, Accuracy: 0.5077, Precision: 0.5022, Recall: 0.5077, MSE: 4.1013, MAE: 1.2416\n",
      "EarlyStopping counter: 2 out of 10\n",
      "Epoch: 3\n",
      "Train Loss: 1.0387\n",
      "Validation Loss: 1.3573, Accuracy: 0.5040, Precision: 0.4967, Recall: 0.5040, MSE: 4.0971, MAE: 1.2413\n",
      "EarlyStopping counter: 3 out of 10\n",
      "Epoch: 4\n",
      "Train Loss: 1.0256\n",
      "Validation Loss: 1.3711, Accuracy: 0.5040, Precision: 0.5075, Recall: 0.5040, MSE: 4.1933, MAE: 1.2605\n",
      "EarlyStopping counter: 4 out of 10\n",
      "Epoch: 5\n",
      "Train Loss: 1.0146\n",
      "Validation Loss: 1.3528, Accuracy: 0.5149, Precision: 0.5120, Recall: 0.5149, MSE: 4.0589, MAE: 1.2271\n",
      "EarlyStopping counter: 5 out of 10\n",
      "Epoch: 6\n",
      "Train Loss: 1.0143\n",
      "Validation Loss: 1.3591, Accuracy: 0.5052, Precision: 0.5023, Recall: 0.5052, MSE: 4.2421, MAE: 1.2630\n",
      "EarlyStopping counter: 6 out of 10\n",
      "Epoch: 7\n",
      "Train Loss: 1.0031\n",
      "Validation Loss: 1.3736, Accuracy: 0.5043, Precision: 0.4934, Recall: 0.5043, MSE: 4.2326, MAE: 1.2614\n",
      "EarlyStopping counter: 7 out of 10\n",
      "Epoch: 8\n",
      "Train Loss: 0.9918\n",
      "Validation Loss: 1.3961, Accuracy: 0.5066, Precision: 0.4977, Recall: 0.5066, MSE: 3.9933, MAE: 1.2251\n",
      "EarlyStopping counter: 8 out of 10\n",
      "Epoch: 9\n",
      "Train Loss: 0.9867\n",
      "Validation Loss: 1.3647, Accuracy: 0.5177, Precision: 0.5082, Recall: 0.5177, MSE: 3.8502, MAE: 1.1941\n",
      "EarlyStopping counter: 9 out of 10\n",
      "Epoch: 10\n",
      "Train Loss: 0.9813\n",
      "Validation Loss: 1.3525, Accuracy: 0.5060, Precision: 0.5035, Recall: 0.5060, MSE: 4.3208, MAE: 1.2798\n",
      "EarlyStopping counter: 10 out of 10\n",
      "Early stopping\n"
     ]
    }
   ],
   "source": [
    "epochs = 50\n",
    "early_stopping = EarlyStopping(patience=10, verbose=True)\n",
    "\n",
    "for epoch in range(epochs):\n",
    "    print('Epoch: {}'.format(epoch))\n",
    "    \n",
    "    train_loss = train(my_model, train_loader, loss_function)\n",
    "    print(f'Train Loss: {train_loss:.4f}')\n",
    "    \n",
    "    val_loss = validate(my_model, valid_loader)\n",
    "    \n",
    "    early_stopping(val_loss)\n",
    "    \n",
    "    if early_stopping.early_stop:\n",
    "        print(\"Early stopping\")\n",
    "        break"
   ]
  },
  {
   "cell_type": "code",
   "execution_count": 25,
   "id": "d6d14cce-cc73-4f08-8019-1e3ba7b4f996",
   "metadata": {},
   "outputs": [],
   "source": [
    "# 解冻基础模型进行微调\n",
    "for param in vgg_model.parameters():\n",
    "    param.requires_grad = True\n",
    "\n",
    "optimizer = Adam(my_model.parameters(), lr=0.0001)"
   ]
  },
  {
   "cell_type": "code",
   "execution_count": 26,
   "id": "f6952aa0-e812-4dad-af98-c4ab0657d276",
   "metadata": {},
   "outputs": [
    {
     "name": "stdout",
     "output_type": "stream",
     "text": [
      "Fine-tuning Epoch: 0\n"
     ]
    },
    {
     "name": "stderr",
     "output_type": "stream",
     "text": [
      "/opt/conda/lib/python3.10/site-packages/torch/autograd/graph.py:744: UserWarning: Plan failed with a cudnnException: CUDNN_BACKEND_EXECUTION_PLAN_DESCRIPTOR: cudnnFinalize Descriptor Failed cudnn_status: CUDNN_STATUS_NOT_SUPPORTED (Triggered internally at /opt/conda/conda-bld/pytorch_1712608935911/work/aten/src/ATen/native/cudnn/Conv_v8.cpp:919.)\n",
      "  return Variable._execution_engine.run_backward(  # Calls into the C++ engine to run the backward pass\n"
     ]
    },
    {
     "name": "stdout",
     "output_type": "stream",
     "text": [
      "Validation Loss: 1.1081, Accuracy: 0.5760, Precision: 0.5817, Recall: 0.5760, MSE: 3.6577, MAE: 1.0904\n",
      "Fine-tuning Epoch: 1\n",
      "Validation Loss: 1.0456, Accuracy: 0.5997, Precision: 0.6201, Recall: 0.5997, MSE: 3.7874, MAE: 1.0817\n",
      "Fine-tuning Epoch: 2\n",
      "Validation Loss: 1.0047, Accuracy: 0.6223, Precision: 0.6382, Recall: 0.6223, MSE: 3.4622, MAE: 1.0064\n",
      "Fine-tuning Epoch: 3\n",
      "Validation Loss: 0.9780, Accuracy: 0.6477, Precision: 0.6416, Recall: 0.6477, MSE: 2.8756, MAE: 0.8812\n",
      "Fine-tuning Epoch: 4\n",
      "Validation Loss: 1.1355, Accuracy: 0.6435, Precision: 0.6424, Recall: 0.6435, MSE: 3.0142, MAE: 0.9082\n",
      "Fine-tuning Epoch: 5\n",
      "Validation Loss: 1.2182, Accuracy: 0.6296, Precision: 0.6411, Recall: 0.6296, MSE: 3.3414, MAE: 0.9788\n",
      "Fine-tuning Epoch: 6\n",
      "Validation Loss: 1.3633, Accuracy: 0.6374, Precision: 0.6502, Recall: 0.6374, MSE: 3.1174, MAE: 0.9339\n",
      "Fine-tuning Epoch: 7\n",
      "Validation Loss: 1.4708, Accuracy: 0.6432, Precision: 0.6449, Recall: 0.6432, MSE: 2.9654, MAE: 0.9018\n",
      "Fine-tuning Epoch: 8\n",
      "Validation Loss: 1.6606, Accuracy: 0.6391, Precision: 0.6394, Recall: 0.6391, MSE: 3.0368, MAE: 0.9197\n",
      "Fine-tuning Epoch: 9\n",
      "Validation Loss: 1.7625, Accuracy: 0.6410, Precision: 0.6389, Recall: 0.6410, MSE: 3.0259, MAE: 0.9121\n"
     ]
    }
   ],
   "source": [
    "# 微调训练过程\n",
    "for epoch in range(10): \n",
    "    print('Fine-tuning Epoch: {}'.format(epoch))\n",
    "    \n",
    "    train(my_model, train_loader, loss_function)\n",
    "    \n",
    "    validate(my_model, valid_loader)"
   ]
  },
  {
   "cell_type": "code",
   "execution_count": 32,
   "id": "a9620bc4-2a95-474a-aa37-5709e017b388",
   "metadata": {},
   "outputs": [
    {
     "name": "stdout",
     "output_type": "stream",
     "text": [
      "正在验证的图像: picture/test/neutral/3656.jpg\n"
     ]
    },
    {
     "data": {
      "image/png": "[encoded data removed]",
      "text/plain": [
       "<Figure size 640x480 with 1 Axes>"
      ]
     },
     "metadata": {},
     "output_type": "display_data"
    },
    {
     "name": "stdout",
     "output_type": "stream",
     "text": [
      "angry: 0.1967\n",
      "disgust: 0.0034\n",
      "fear: 0.0481\n",
      "happy: 0.0002\n",
      "neutral: 0.6114\n",
      "sad: 0.1401\n",
      "surprise: 0.0002\n"
     ]
    }
   ],
   "source": [
    "import random\n",
    "import os\n",
    "import matplotlib.pyplot as plt\n",
    "\n",
    "# 定义数据预处理步骤\n",
    "def load_and_preprocess_image(image_path):\n",
    "    transform = transforms.Compose([\n",
    "        transforms.Resize((224, 224)),  # 调整图像大小\n",
    "        transforms.ToTensor(),  # 转换为张量\n",
    "        transforms.Normalize(mean=[0.485, 0.456, 0.406], std=[0.229, 0.224, 0.225])  # 标准化\n",
    "    ])\n",
    "    \n",
    "    image = Image.open(image_path).convert('RGB')  # 打开图像并转换为RGB格式\n",
    "    image_tensor = transform(image).unsqueeze(0)  # 添加批次维度\n",
    "    return image_tensor.to(device), image  # 返回张量和原始图像\n",
    "\n",
    "# 从test文件夹中随机选择一张图片进行验证\n",
    "def test_random_image(model, test_dir):\n",
    "    all_images = []\n",
    "    \n",
    "    # 收集所有类别的图像路径\n",
    "    for label in DATA_LABELS:\n",
    "        label_dir = os.path.join(test_dir, label)\n",
    "        if os.path.exists(label_dir):\n",
    "            all_images.extend(glob.glob(os.path.join(label_dir, '*.jpg')))  # 假设图像为jpg格式\n",
    "\n",
    "    if not all_images:\n",
    "        print(\"没有找到测试图像！\")\n",
    "        return\n",
    "    \n",
    "    random_image_path = random.choice(all_images)  # 随机选择一张图像\n",
    "    print(f\"正在验证的图像: {random_image_path}\")\n",
    "\n",
    "    image_tensor, original_image = load_and_preprocess_image(random_image_path)  # 加载和预处理图像\n",
    "\n",
    "    model.eval()  # 设置模型为评估模式\n",
    "    with torch.no_grad():\n",
    "        output = model(image_tensor)  # 获取模型输出\n",
    "        probabilities = torch.softmax(output, dim=1)  # 获取每个类别的概率\n",
    "        prediction_idx = output.argmax(dim=1).item()  # 获取预测类别索引\n",
    "\n",
    "    # 显示原始图像和预测结果\n",
    "    plt.imshow(original_image)\n",
    "    plt.axis('off')  # 不显示坐标轴\n",
    "    plt.title(f\"prediction: {DATA_LABELS[prediction_idx]}\")\n",
    "    plt.show()\n",
    "\n",
    "    # 输出每个标签的概率\n",
    "    for i, label in enumerate(DATA_LABELS):\n",
    "        print(f\"{label}: {probabilities[0][i].item():.4f}\")  # 输出格式化的概率值\n",
    "\n",
    "# 调用函数进行验证，指定测试目录路径\n",
    "test_directory = \"picture/test/\"  # 测试图像所在目录\n",
    "test_random_image(my_model, test_directory)"
   ]
  },
  {
   "cell_type": "code",
   "execution_count": null,
   "id": "3d48988b-5e86-48ab-891c-678e381d9a94",
   "metadata": {},
   "outputs": [],
   "source": []
  }
 ],
 "metadata": {
  "kernelspec": {
   "display_name": "Python 3 (ipykernel)",
   "language": "python",
   "name": "python3"
  },
  "language_info": {
   "codemirror_mode": {
    "name": "ipython",
    "version": 3
   },
   "file_extension": ".py",
   "mimetype": "text/x-python",
   "name": "python",
   "nbconvert_exporter": "python",
   "pygments_lexer": "ipython3",
   "version": "3.10.14"
  }
 },
 "nbformat": 4,
 "nbformat_minor": 5
}
